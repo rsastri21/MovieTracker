{
  "nbformat": 4,
  "nbformat_minor": 0,
  "metadata": {
    "colab": {
      "provenance": [],
      "authorship_tag": "ABX9TyNz3cVJ4FO1JmGUwa7Zr97S",
      "include_colab_link": true
    },
    "kernelspec": {
      "name": "python3",
      "display_name": "Python 3"
    },
    "language_info": {
      "name": "python"
    }
  },
  "cells": [
    {
      "cell_type": "markdown",
      "metadata": {
        "id": "view-in-github",
        "colab_type": "text"
      },
      "source": [
        "<a href=\"https://colab.research.google.com/github/rsastri21/MovieTracker/blob/main/434_Lab4.ipynb\" target=\"_parent\"><img src=\"https://colab.research.google.com/assets/colab-badge.svg\" alt=\"Open In Colab\"/></a>"
      ]
    },
    {
      "cell_type": "markdown",
      "source": [
        "**Lab 4**"
      ],
      "metadata": {
        "id": "u2o2G8b46StJ"
      }
    },
    {
      "cell_type": "code",
      "source": [
        "import numpy as np\n",
        "import matplotlib.pyplot as plt\n",
        "from scipy.stats import uniform\n",
        "import random\n",
        "from scipy.stats import cauchy"
      ],
      "metadata": {
        "id": "BxA_vSJg6Vrn"
      },
      "execution_count": 35,
      "outputs": []
    },
    {
      "cell_type": "code",
      "source": [
        "# Functions to assist with Task A\n",
        "def create_config(size):\n",
        "  '''\n",
        "  Create the initial configuration of an L x L matrix with all values.\n",
        "  L is specified with the size parameter.\n",
        "  '''\n",
        "  A = np.ones((size, size), dtype=int)\n",
        "  return A\n",
        "\n",
        "def flip_index(matrix):\n",
        "  '''\n",
        "  Finds a random (i, j) index to flip in the matrix configuration.\n",
        "  Takes the matrix as a parameter and returns the modified matrix.\n",
        "  '''\n",
        "  L = np.shape(matrix)[0] # Finds the side length L\n",
        "  \n",
        "  # Find indices\n",
        "  i = random.randint(0, L - 1)\n",
        "  j = random.randint(0, L - 1)\n",
        "\n",
        "  # Flip spin value\n",
        "  matrix = matrix.copy()\n",
        "  matrix[i, j] = -matrix[i, j]\n",
        "\n",
        "  return matrix\n",
        "\n",
        "def compute_hamiltonian(matrix):\n",
        "  '''\n",
        "  Computes the Hamiltonian from the provided formula for a given spin \n",
        "  configuration. Returns the scalar quantity.\n",
        "  '''\n",
        "  J = 1 # J chosen to be 1 in the lab handout.\n",
        "  L = np.shape(matrix)[0]\n",
        "\n",
        "  # Perform summation over matrix indices\n",
        "  sum = 0\n",
        "  for i in range(L):\n",
        "    for j in range(L):\n",
        "      s_ij = matrix[i, j]\n",
        "      s_left = matrix[(i - 1) % L, j]\n",
        "      s_right = matrix[(i + 1) % L, j]\n",
        "      s_top = matrix[i, (j + 1) % L]\n",
        "      s_bottom = matrix[i, (j - 1) % L]\n",
        "      \n",
        "      sum += s_ij * (s_right + s_left + s_top + s_bottom)\n",
        "  \n",
        "  # Multiply by constant factor\n",
        "  sum = float(sum) * -J / 2.0\n",
        "\n",
        "  return sum\n",
        "\n",
        "def compute_energy_change(state1, state2):\n",
        "  '''\n",
        "  Given two spin states as matrices, computes the energy change\n",
        "  between them and returns the quantity.\n",
        "  '''\n",
        "  E_state1 = compute_hamiltonian(state1)\n",
        "  E_state2 = compute_hamiltonian(state2)\n",
        "\n",
        "  return E_state2 - E_state1\n",
        "\n",
        "def determine_next_state(delta_E, state1, state2, temp):\n",
        "  '''\n",
        "  If delta_E < 0, the move is accepted. Otherwise, the move is accepted\n",
        "  if exp(-delta_E / T) > random uniform probability value. \n",
        "  '''\n",
        "  random_value = uniform.rvs(size=1)\n",
        "  T = temp # Specified in the lab handout\n",
        "\n",
        "  probability = np.exp(-delta_E / T)\n",
        "\n",
        "  # Condition for keeping original state\n",
        "  if delta_E < 0:\n",
        "    return state2\n",
        "  elif probability > random_value:\n",
        "    return state2\n",
        "  else:\n",
        "    # Condition not satisfied, old state kept.\n",
        "    return state1\n",
        "\n",
        "def execute_step(state, temp):\n",
        "  '''\n",
        "  Carry out one step in creating the next state.\n",
        "  Return the state following one iteration.\n",
        "  '''\n",
        "  new_state = flip_index(state)\n",
        "  delta_E = compute_energy_change(state, new_state)\n",
        "\n",
        "  # Determine the next state and return it\n",
        "  return determine_next_state(delta_E, state, new_state, temp)\n",
        "\n",
        "def compute_magnetization(state):\n",
        "  '''\n",
        "  Computes the magnetization for a given spin configuration.\n",
        "  '''\n",
        "  total = state.sum()\n",
        "  return total\n"
      ],
      "metadata": {
        "id": "xCv2mFav6vea"
      },
      "execution_count": 3,
      "outputs": []
    },
    {
      "cell_type": "markdown",
      "source": [
        "Task A - Computing the Magnetization"
      ],
      "metadata": {
        "id": "0JZqmUn7GAat"
      }
    },
    {
      "cell_type": "code",
      "source": [
        "# Define maximum iterations\n",
        "N_max = 10000\n",
        "\n",
        "# Magnetization array to store computed values\n",
        "n_array = []\n",
        "magnetization = []\n",
        "\n",
        "# Initial state\n",
        "S = create_config(10)\n",
        "mag = 0.\n",
        "\n",
        "for i in range(1, N_max):\n",
        "  new_S = execute_step(S, 1.5)\n",
        "  S = new_S.copy()\n",
        "  mag += compute_magnetization(S)\n",
        "  if i % 100 == 0:\n",
        "    n_array.append(i)\n",
        "    magnetization.append(mag / i)\n",
        "\n",
        "# Create plot\n",
        "fig, ax = plt.subplots(figsize=(9, 6))\n",
        "\n",
        "ax.plot(n_array, magnetization, 'o', markersize=2)\n",
        "ax.set_xlabel('Number of $N_{step}$ Iterations')\n",
        "ax.set_ylabel('Magnetization $<M>$')\n",
        "\n",
        "plt.show()"
      ],
      "metadata": {
        "colab": {
          "base_uri": "https://localhost:8080/",
          "height": 392
        },
        "id": "gCbe61CAGDSM",
        "outputId": "87f20db2-4b9d-4775-b06b-73e46250f213"
      },
      "execution_count": 7,
      "outputs": [
        {
          "output_type": "display_data",
          "data": {
            "text/plain": [
              "<Figure size 648x432 with 1 Axes>"
            ],
            "image/png": "[encoded data removed]"
          },
          "metadata": {
            "needs_background": "light"
          }
        }
      ]
    },
    {
      "cell_type": "markdown",
      "source": [
        "After several runs, 10,000 iterations in steps of 100 causes the magnitization to approach a value between 98.5 and 99.25. "
      ],
      "metadata": {
        "id": "1zD8NPcRgK8A"
      }
    },
    {
      "cell_type": "markdown",
      "source": [
        "Task B"
      ],
      "metadata": {
        "id": "vdqWt_EwJcqh"
      }
    },
    {
      "cell_type": "code",
      "source": [
        "# Function to carry out a Monte Carlo simulation for <M>.\n",
        "\n",
        "def compute_m(temp, N_max, L):\n",
        "  '''\n",
        "  Computes the magnetization from a Monte Carlo simulation for a spin lattice.\n",
        "  Returns the magnetization value after N_max iterations.\n",
        "  '''\n",
        "  # Define maximum iterations\n",
        "  N = N_max\n",
        "\n",
        "  # Initial state\n",
        "  S = create_config(L)\n",
        "  mag = 0.\n",
        "\n",
        "  for i in range(1, N_max):\n",
        "    new_S = execute_step(S, temp)\n",
        "    S = new_S.copy()\n",
        "    mag += compute_magnetization(S)\n",
        "    \n",
        "  return mag / N_max\n"
      ],
      "metadata": {
        "id": "wokdduZHJf4X"
      },
      "execution_count": 8,
      "outputs": []
    },
    {
      "cell_type": "code",
      "source": [
        "N_max = 10000\n",
        "L = 10 # 10x10 lattice\n",
        "\n",
        "# Define temperature interval\n",
        "temps = np.linspace(1.5, 3.25, 10)\n",
        "\n",
        "magnetization = []\n",
        "# Compute MC simulation for each temperature\n",
        "for temp in temps:\n",
        "  magnetization.append(compute_m(temp, N_max, L))\n",
        "\n",
        "# Create plot\n",
        "fig, ax = plt.subplots()\n",
        "\n",
        "ax.plot(temps, magnetization, 'o', markersize=3)\n",
        "ax.set_xlabel(\"Temperature (T)\")\n",
        "ax.set_ylabel(\"Magnetization $<M>$\")\n",
        "\n",
        "plt.show()"
      ],
      "metadata": {
        "colab": {
          "base_uri": "https://localhost:8080/",
          "height": 279
        },
        "id": "hN5gvoprK01K",
        "outputId": "6ffd4ef4-23fe-4be2-d3e2-fa668ac3b732"
      },
      "execution_count": 13,
      "outputs": [
        {
          "output_type": "display_data",
          "data": {
            "text/plain": [
              "<Figure size 432x288 with 1 Axes>"
            ],
            "image/png": "[encoded data removed]"
          },
          "metadata": {
            "needs_background": "light"
          }
        }
      ]
    },
    {
      "cell_type": "markdown",
      "source": [
        "There appears to be a phase transition after the temperature crosses $T_c=2.50$. This is seen in the apparent flip from magnitization near 100 to magnitization near 0. "
      ],
      "metadata": {
        "id": "E3qJaq_BgGvR"
      }
    },
    {
      "cell_type": "markdown",
      "source": [
        "Two Body Decay of a Massive Particle"
      ],
      "metadata": {
        "id": "Gquzhnwmg4pu"
      }
    },
    {
      "cell_type": "code",
      "source": [
        "# Functions to assist with this portion of the lab.\n",
        "\n",
        "def mass_distribution(mass, m_0, gamma):\n",
        "  '''\n",
        "  Computes the mass distribution for a given mass of a Higgs Boson particle.\n",
        "  '''\n",
        "  result = (1 / np.pi) * (gamma / 2.) / ((mass - m_0) ** 2 + (gamma / 2.) ** 2)\n",
        "\n",
        "  return result\n",
        "\n",
        "def generate_angles():\n",
        "  '''\n",
        "  Generates the angle theta and phi from a uniform spherical distribution.\n",
        "  Returns a tuple that packs the angles together.\n",
        "  '''\n",
        "  theta = np.arccos(2 * random.uniform(0, 1) - 1) # From textbook derivation\n",
        "  phi = random.uniform(0, 2 * np.pi)\n",
        "\n",
        "  return (phi, theta)\n",
        "\n",
        "def generate_photon_energy(m_0, gamma):\n",
        "  '''\n",
        "  Generates the mass of a Higgs Boson particle using rejetion sampling.\n",
        "  Parameters are the mass of the Higgs particle and the associated gamma.\n",
        "  Returns the photon energy from the relationship E_gamma = m_H / 2\n",
        "  '''\n",
        "  found_value = False\n",
        "  mass = 0\n",
        "  while not found_value:\n",
        "    random_mass = random.uniform(m_0 - 5 * gamma, m_0 + 5 * gamma)\n",
        "    y = uniform.rvs(size=1)\n",
        "    weight = mass_distribution(random_mass, m_0, gamma)\n",
        "    # Condition for accepting the mass\n",
        "    if y < weight:\n",
        "      # Break out of loop\n",
        "      found_value = True\n",
        "      mass = random_mass\n",
        "  \n",
        "  E_gamma = mass / 2.\n",
        "  \n",
        "  return E_gamma\n",
        "\n",
        "def compute_opposite_angle(angles):\n",
        "  '''\n",
        "  Returns a tuple of the opposite angles from the input in spherical coordinates.\n",
        "  '''\n",
        "  new_angles = ((np.pi + angles[0]) % 2 * np.pi, (np.pi - angles[1]) % np.pi)\n",
        "  return new_angles\n",
        "\n",
        "def get_momentum(energy, angles):\n",
        "  '''\n",
        "  Makes use of the relation E = p for a photon.\n",
        "  Accepts an input energy and set of angles of a photon and outputs a list\n",
        "  of 3 quantities representing px, py, and pz. \n",
        "  '''\n",
        "  p = []\n",
        "\n",
        "  # x-component: px = p * sin(theta) * cos(phi)\n",
        "  px = energy * np.sin(angles[1]) * np.cos(angles[0])\n",
        "  p.append(px)\n",
        "\n",
        "  # y-component: py = p * sin(theta) * sin(phi)\n",
        "  py = energy * np.sin(angles[1]) * np.sin(angles[0])\n",
        "  p.append(py)\n",
        "\n",
        "  # z-component: pz = p * cos(theta)\n",
        "  pz = energy * np.cos(angles[1])\n",
        "  p.append(pz)\n",
        "\n",
        "  return p\n",
        "\n",
        "def simulate_event(m_0, gamma):\n",
        "  '''\n",
        "  Carries out a single event and returns the 4-momentum and the angle of the decay photons.\n",
        "  Takes in the parameters of the Higgs Boson as parameters.\n",
        "  '''\n",
        "  # Begin by generating the angle of the first photon.\n",
        "  angle1 = generate_angles()\n",
        "  \n",
        "  # Assign angles of second photon.\n",
        "  angle2 = compute_opposite_angle(angle1)\n",
        "\n",
        "  # Generate Higgs mass and photon energy\n",
        "  photon_energy = generate_photon_energy(m_0, gamma)\n",
        "\n",
        "  # Compute 4-momentum\n",
        "  p1 = get_momentum(photon_energy, angle1)\n",
        "  photon1 = [photon_energy, p1[0], p1[1], p1[2]]\n",
        "\n",
        "  p2 = get_momentum(photon_energy, angle2)\n",
        "  photon2 = [photon_energy, p2[0], p2[1], p2[2]]\n",
        "\n",
        "  return photon1, angle1, photon2, angle2\n"
      ],
      "metadata": {
        "id": "v46wWF-4hBM3"
      },
      "execution_count": 84,
      "outputs": []
    },
    {
      "cell_type": "markdown",
      "source": [
        "Task A"
      ],
      "metadata": {
        "id": "I7EFga2OhAUX"
      }
    },
    {
      "cell_type": "code",
      "source": [
        "# Constants\n",
        "m_0 = 126.5 \n",
        "gamma = 4\n",
        "\n",
        "# Generate 10000 various masses symmetric around \n",
        "N = 10000\n",
        "mass = []\n",
        "distribution = []\n",
        "\n",
        "# Rejection sampling until N samples are obtained\n",
        "while (len(mass) < N):\n",
        "  random_mass = random.uniform(m_0 - 5 * gamma, m_0 + 5 * gamma)\n",
        "  y = uniform.rvs(size=1)\n",
        "  weight = mass_distribution(random_mass, m_0, gamma)\n",
        "  if y < weight:\n",
        "    mass.append(random_mass)\n",
        "    distribution.append(y)\n",
        "\n",
        "# Reference Distribution\n",
        "x = np.linspace(m_0 - 5 * gamma, m_0 + 5 * gamma, 1000)\n",
        "dist = mass_distribution(x, m_0, gamma)\n",
        "\n",
        "# Create plot\n",
        "fig, ax = plt.subplots(figsize=(9, 6))\n",
        "bin_list = np.linspace(m_0 - 5 * gamma, m_0 + 5 * gamma, 101)\n",
        "ax.hist(mass, histtype='stepfilled', density=True, bins=bin_list, label=\"Mass Distribution\")\n",
        "ax.plot(x, dist, label=r'Reference Breit-Wigner Distribution')\n",
        "\n",
        "ax.set_xlabel(\"mass [GeV]\")\n",
        "ax.set_title(\"Mass Distribution of Higgs Boson\")\n",
        "\n",
        "plt.legend()\n",
        "\n",
        "plt.show()"
      ],
      "metadata": {
        "colab": {
          "base_uri": "https://localhost:8080/",
          "height": 404
        },
        "id": "eyfVGG3lkFAm",
        "outputId": "259133e5-1547-4b7f-ee16-e33380675b23"
      },
      "execution_count": 43,
      "outputs": [
        {
          "output_type": "display_data",
          "data": {
            "text/plain": [
              "<Figure size 648x432 with 1 Axes>"
            ],
            "image/png": "[encoded data removed]"
          },
          "metadata": {
            "needs_background": "light"
          }
        }
      ]
    },
    {
      "cell_type": "markdown",
      "source": [
        "Task B - Energy and Angular Distributions for Photon 1"
      ],
      "metadata": {
        "id": "QGhqELazjsiE"
      }
    },
    {
      "cell_type": "code",
      "source": [
        "# Run N simulated events \n",
        "N_events = 1000\n",
        "m_0 = 126.5\n",
        "gamma = 4\n",
        "\n",
        "angular_dist1 = np.empty((1000, 2))\n",
        "angular_dist2 = np.empty((1000, 2))\n",
        "\n",
        "momenta1 = np.empty((1000, 4))\n",
        "momenta2 = np.empty((1000, 4))\n",
        "\n",
        "for i in range(N_events):\n",
        "  photon1, angle1, photon2, angle2 = simulate_event(m_0, gamma)\n",
        "  momenta1[i] = photon1\n",
        "  momenta2[i] = photon2\n",
        "  angular_dist1[i] = angle1\n",
        "  angular_dist2[i] = angle2\n",
        "\n",
        "# Plot energy distribution\n",
        "fig, ax = plt.subplots(figsize=(9, 6))\n",
        "ax.hist(momenta1[:, 0], histtype='stepfilled', bins=25, density=True, label=\"Photon 1\", alpha=0.5)\n",
        "\n",
        "ax.set_xlabel(\"Energy\")\n",
        "ax.set_ylabel(\"Proportion\")\n",
        "ax.set_title(\"Energy Distribution\")\n",
        "\n",
        "plt.legend()\n",
        "plt.show()"
      ],
      "metadata": {
        "colab": {
          "base_uri": "https://localhost:8080/",
          "height": 404
        },
        "id": "hbCNSl-fj0S4",
        "outputId": "7d6493e7-7374-4812-d6c1-7acc3a075410"
      },
      "execution_count": 85,
      "outputs": [
        {
          "output_type": "display_data",
          "data": {
            "text/plain": [
              "<Figure size 648x432 with 1 Axes>"
            ],
            "image/png": "[encoded data removed]"
          },
          "metadata": {
            "needs_background": "light"
          }
        }
      ]
    },
    {
      "cell_type": "markdown",
      "source": [
        "The plot resembles the expected Breit-Wigner distribution but centered around $\\frac{m_0}{2}$ as the photon has half the energy of the Higgs Boson."
      ],
      "metadata": {
        "id": "hn7p53ltxUg9"
      }
    },
    {
      "cell_type": "code",
      "source": [
        "# Angular Distributions\n",
        "\n",
        "fig, ax = plt.subplots(1, 2, figsize=(18, 6))\n",
        "ax[0].hist(angular_dist1[:, 0], bins=25, histtype='stepfilled', density=True, label=r\"$\\phi_1$\", alpha=0.5)\n",
        "ax[0].hist(angular_dist2[:, 0], bins=25, histtype='stepfilled', density=True, label=r\"$\\phi_2$\", alpha=0.5)\n",
        "\n",
        "ax[0].set_xlabel(\"Radians\")\n",
        "ax[0].set_ylabel(\"Proportion\")\n",
        "ax[0].set_title(\"Distribution in $\\phi$\")\n",
        "\n",
        "ax[1].hist(angular_dist1[:, 1], bins=25, histtype='stepfilled', density=True, label=r\"$\\theta_1$\", alpha=0.5)\n",
        "ax[1].hist(angular_dist2[:, 1], bins=25, histtype='stepfilled', density=True, label=r\"$\\theta_2$\", alpha=0.5)\n",
        "\n",
        "ax[1].set_xlabel(\"Radians\")\n",
        "ax[1].set_ylabel(\"Proportion\")\n",
        "ax[1].set_title(r\"Distribution in $\\theta$\")\n",
        "\n",
        "ax[0].legend()\n",
        "ax[1].legend()\n",
        "plt.show()"
      ],
      "metadata": {
        "colab": {
          "base_uri": "https://localhost:8080/",
          "height": 406
        },
        "id": "QzXl-wlguGVw",
        "outputId": "be1cdbf8-3123-44d9-c78c-456dfc1745b8"
      },
      "execution_count": 86,
      "outputs": [
        {
          "output_type": "display_data",
          "data": {
            "text/plain": [
              "<Figure size 1296x432 with 2 Axes>"
            ],
            "image/png": "[encoded data removed]"
          },
          "metadata": {
            "needs_background": "light"
          }
        }
      ]
    },
    {
      "cell_type": "markdown",
      "source": [
        "The angular distributions for both photons also look as expected. With a uniform spherical distribution, the $\\phi$ coordinate will look flat, while the $\\theta$ coordinate will concentrate near the middle as there is more spherical surface area near the equatorial regions of a sphere. As a uniform set of points are generated, both photon 1 and photon 2 will exhibit similar angular distributions due to the symmetric nature of the generation of $(\\phi, \\theta)$."
      ],
      "metadata": {
        "id": "RRe0cL5HxvbJ"
      }
    }
  ]
}